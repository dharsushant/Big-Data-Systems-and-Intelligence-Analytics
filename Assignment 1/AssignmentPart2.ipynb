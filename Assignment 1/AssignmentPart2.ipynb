{
 "cells": [
  {
   "cell_type": "code",
   "execution_count": 1,
   "metadata": {
    "collapsed": true
   },
   "outputs": [],
   "source": [
    "from bs4 import BeautifulSoup"
   ]
  },
  {
   "cell_type": "code",
   "execution_count": 2,
   "metadata": {
    "collapsed": true
   },
   "outputs": [],
   "source": [
    "import urllib3 \n"
   ]
  },
  {
   "cell_type": "code",
   "execution_count": 3,
   "metadata": {
    "collapsed": true
   },
   "outputs": [],
   "source": [
    "import requests"
   ]
  },
  {
   "cell_type": "code",
   "execution_count": 4,
   "metadata": {
    "collapsed": true
   },
   "outputs": [],
   "source": [
    "import warnings \n",
    "warnings.filterwarnings('ignore')"
   ]
  },
  {
   "cell_type": "code",
   "execution_count": 5,
   "metadata": {
    "collapsed": true
   },
   "outputs": [],
   "source": [
    "url='https://en.wikipedia.org/wiki/Kshmr'\n"
   ]
  },
  {
   "cell_type": "code",
   "execution_count": 6,
   "metadata": {},
   "outputs": [
    {
     "data": {
      "text/plain": [
       "200"
      ]
     },
     "execution_count": 6,
     "metadata": {},
     "output_type": "execute_result"
    }
   ],
   "source": [
    "http = urllib3.PoolManager()\n",
    "response = http.request('GET',url)\n",
    "response.status"
   ]
  },
  {
   "cell_type": "code",
   "execution_count": 7,
   "metadata": {
    "collapsed": true
   },
   "outputs": [],
   "source": [
    "#that shows the link is OKAY"
   ]
  },
  {
   "cell_type": "code",
   "execution_count": 12,
   "metadata": {},
   "outputs": [],
   "source": [
    "yay = requests.get(url)"
   ]
  },
  {
   "cell_type": "code",
   "execution_count": 13,
   "metadata": {
    "collapsed": true
   },
   "outputs": [],
   "source": [
    "data = yay.text"
   ]
  },
  {
   "cell_type": "code",
   "execution_count": 14,
   "metadata": {
    "collapsed": true
   },
   "outputs": [],
   "source": [
    "soup = BeautifulSoup(data, \"lxml\")"
   ]
  },
  {
   "cell_type": "code",
   "execution_count": 15,
   "metadata": {},
   "outputs": [
    {
     "name": "stdout",
     "output_type": "stream",
     "text": [
      "http://welcometokshmr.com\n",
      "welcometokshmr.com\n",
      "http://www.edmtunes.com/2017/07/kshmr-maurice-west-new-single/\n",
      "\"KSHMR and Maurice West - 'Festival Of Lights' - EDMTunes\"\n",
      "http://www.youredm.com/2017/08/04/kshmr-releases-debut-ep-materia-new-label-dharma-worldwide/\n",
      "\"KSHMR's Debut EP Is Out Now & You NEED To Hear The Snails Collab\"\n",
      "https://www.edmsauce.com/2017/07/27/kshmr-drops-masterful-second-release-off-label-dharma-listen/\n",
      "\"KSHMR Drops 'Kolkata' Off Of His New Record Label Dharma\"\n",
      "https://weraveyou.com/2017/07/kshmr-announces-dharma-worldwide-record-label/\n",
      "\"KSHMR ANNOUNCES HIS OWN DHARMA WORLDWIDE RECORD LABEL\"\n",
      "https://djmag.com/top100dj?year=2015\n",
      "\"Top 100 DJ's of 2015\"\n",
      "https://djmag.com/top100dj?year=2016\n",
      "\"Top 100 DJ's of 2016\"\n",
      "http://popcrush.com/the-cataracs-things/\n",
      "\"10 Things You Didn't Know About the Cataracs\"\n",
      "http://www.sfgate.com/entertainment/article/Cataracs-have-clear-focus-on-big-time-3275500.php\n",
      "\"Cataracs have clear focus on big-time\"\n",
      "http://coyotechronicle.net/kshmr-bring-new-talent-to-edm/\n",
      "\"KSHMR bring new talent to EDM\"\n",
      "http://djmag.com/top100dj\n",
      "\"Top 100 DJs\"\n",
      "https://www.youtube.com/watch?v=gNQj9aEqFSg\n",
      "\"The Producers Conference with The Cataracs\"\n",
      "https://web.archive.org/web/20150511214642/http://www.spin.com/articles/ti%C3%ABsto-kshmr-vassy-secrets-new\n",
      "\"Archived copy\"\n",
      "http://www.spin.com/articles/ti%C3%ABsto-kshmr-vassy-secrets-new/\n",
      "the original\n",
      "http://lescharts.com/showitem.asp?interpret=R3hab+%26+KSHMR&titel=Karate&cat=s\n",
      "\"R3hab & KSHMR – Karate\"\n",
      "https://www.spinninrecords.com/remixcontest/kshmr-jammu\n",
      "\"KSHMR – JAMMU | Remix Contest | Spinnin' Records\"\n",
      "https://splice.com/kshmr/sounds-of-kshmr-contest\n",
      "\"Splice\"\n",
      "https://web.archive.org/web/20150911030245/http://www.globaldanceelectronichq.com/2015/07/kshmr-announces-los-angeles-show-at.html\n",
      "\"Archived copy\"\n",
      "http://www.globaldanceelectronichq.com/2015/07/kshmr-announces-los-angeles-show-at.html\n",
      "the original\n",
      "http://www.fondatheatre.com/events/detail/280876\n",
      "\"Events\"\n",
      "http://www.billboard.com/articles/news/dance/7370443/kshmr-drops-lush-lion-across-the-field-ep-dance\n",
      "\"KSHMR Drops Lush 'The Lion Across the Field' EP\"\n",
      "http://www.youredm.com/2016/12/05/leaked-contracts-reveal-kshmr-to-have-production-credits-on-borgeouss-songs/\n",
      "\"LEAKED CONTRACTS REVEAL KSHMR TO HAVE PRODUCTION CREDITS ON BORGEOUS' SONGS\"\n",
      "http://www.billboard.com/articles/news/dance/7495400/kshmr-tigerlily-invisible-children\n",
      "\"KSHMR and Tigerlily's 'Invisible Children' Turns Up for a Cause: Exclusive\"\n",
      "https://djmag.com/top-100-djs/poll-2016-kshmr\n",
      "\"Poll 2016: KSHMR\"\n",
      "http://www.billboard.com/articles/news/dance/7549905/kshmr-bassjackers-extreme-sidnie-tipton\n",
      "\"KSHMR & Bassjackers Take Fun to the 'Extreme' on Latest Collaboration: Exclusive\"\n",
      "https://weraveyou.com/2016/09/kshmr-will-sparks-voices-2/\n",
      "\"KSHMR & WILL SPARKS- \"VOICES\"\"\n",
      "https://web.archive.org/web/20170507184103/https://weraveyou.com/2016/09/kshmr-will-sparks-voices-2/\n",
      "Archived\n",
      "https://www.beatport.com/release/back-to-me/1972509\n",
      "\"Back To Me from SPINNIN' RECORDS on Beatport\"\n",
      "https://www.beatport.com/release/harder/2032751\n",
      "\"Harder from Musical Freedom on Beatport\"\n",
      "http://www.billboard.com/articles/news/dance/7873099/kshmr-dharma-worldwide-label-festival-of-lights\n",
      "\"KSHMR Launches Dharma Worldwide Label, Promises a Track a Week From New EP\"\n",
      "https://www.beatport.com/release/kolkata/2073775\n",
      "\"Kolkata from Dharma Music on Beatport\"\n",
      "https://www.beatport.com/release/divination/2074761\n",
      "\"Divination from Dharma Music on Beatport\"\n",
      "https://www.beatport.com/release/the-serpent/2074630\n",
      "\"The Serpent from Dharma Music on Beatport\"\n",
      "https://www.youtube.com/watch?v=J701ucIsrrk\n",
      "\"Hardwell & KSHMR - Power (Official Lyric Video)\"\n",
      "http://www.radioandmusic.com/entertainment/editorial/news/171013-sonu-nigam-collaborates-dj-kshmr-underwater\n",
      "\"Sonu Nigam collaborates with DJ KSHMR for 'Underwater'\"\n",
      "https://www.beatport.com/track/underwater-feat-sonu-nigam-extended-mix/9825455\n",
      "\"UNDERWATER FEAT. SONU NIGAM EXTENDED MIX\"\n",
      "https://web.archive.org/web/20171230064531/https://www.billboard.com/articles/news/dance/8054873/r3hab-kshmr-islands-listen\n",
      "\"R3hab & KSHMR's 'Islands' Sets Sail on Waves of Neon Gold: Listen\"\n",
      "https://web.archive.org/web/20171230065931/https://weraveyou.com/2017/12/kshmr-marnik-shiva/\n",
      "\"KSHMR & MARNIK – SHIVA (FEAT. THE GOLDEN ARMY) (SUNBURN 2017 ANTHEM)\n",
      "https://djmag.com/top-100-djs/poll-2017-kshmr\n",
      "\"Poll 2017: KSHMR\"\n",
      "https://musicbrainz.org/artist/333cf594-2b90-429f-88f4-a93e6c64cbeb\n",
      "333cf594-2b90-429f-88f4-a93e6c64cbeb\n",
      "https://www.wikidata.org/wiki/Special:EntityPage/Q19816655\n",
      "Wikidata item\n",
      "https://commons.wikimedia.org/wiki/Category:KSHMR\n",
      "Wikimedia Commons\n",
      "https://wikimediafoundation.org/wiki/Privacy_policy\n",
      "Privacy policy\n",
      "https://www.mediawiki.org/wiki/Special:MyLanguage/How_to_contribute\n",
      "Developers\n",
      "https://wikimediafoundation.org/wiki/Cookie_statement\n",
      "Cookie statement\n",
      "https://wikimediafoundation.org/\n",
      "\n"
     ]
    }
   ],
   "source": [
    "for i in soup.find_all('a', {'href' : True}):\n",
    "    if(i['href'].startswith('http') and 'wikipedia' not in i['href']):\n",
    "        print(i['href'])\n",
    "        print(i.get_text())"
   ]
  },
  {
   "cell_type": "code",
   "execution_count": 16,
   "metadata": {},
   "outputs": [
    {
     "name": "stdout",
     "output_type": "stream",
     "text": [
      "complete\n"
     ]
    }
   ],
   "source": [
    "import time\n",
    "import xlsxwriter\n",
    "def urlAnalyze(url):\n",
    "   urllink = url\n",
    "   result = \"\"\n",
    "   responseExcel = []\n",
    "   http = urllib3.PoolManager()\n",
    "  \n",
    "   try:\n",
    "       if 'http' in urllink:\n",
    "           response = http.request('GET',url)\n",
    "           if response.status == 200:\n",
    "                result = 'true'\n",
    "           else:\n",
    "               result = 'false'\n",
    "   except Exception:\n",
    "           result = 'false'\n",
    "           \n",
    "  \n",
    "   if not result:\n",
    "       result = 'false'\n",
    "       \n",
    "   return result\n",
    "\n",
    "def excelDownload (excelOut):\n",
    "   filepath = 'Export_WorkSheet.xlsx'\n",
    "   wb = xlsxwriter.Workbook(filepath)\n",
    "   ws = wb.add_worksheet()\n",
    " \n",
    "   bold = wb.add_format({'bold': 1})\n",
    " \n",
    "   ws.set_column(1, 1, 15)\n",
    " \n",
    "   ws.write('A1', 'URL', bold)\n",
    "   ws.write('B1', 'Textual Description', bold)\n",
    "   ws.write('C1', 'Valid', bold)\n",
    "   ws.write('D1', 'Date/time', bold)\n",
    " \n",
    "   row = 1\n",
    "   col = 0\n",
    "   for url, txt_desc, valid, date_time in (excelOut):\n",
    "       ws.write_string  (row, col,     url)\n",
    "       ws.write_string  (row, col + 1, txt_desc)\n",
    "       ws.write_string  (row, col + 2, valid)\n",
    "       ws.write_string  (row, col + 3, date_time)\n",
    "       row += 1\n",
    " \n",
    "   wb.close()\n",
    " \n",
    "excelOut = []\n",
    "for i in soup.find_all('a', {'href':True}):\n",
    "    if (i['href'].startswith('http') and 'wikipedia' not in i['href']):    \n",
    "     response = urlAnalyze(i['href'])\n",
    "     excelOut.append([i['href'],i.get_text(), response,time.strftime(\"%c\")])\n",
    "excelDownload(excelOut)\n",
    "\n",
    "print(\"complete\")"
   ]
  },
  {
   "cell_type": "code",
   "execution_count": null,
   "metadata": {
    "collapsed": true
   },
   "outputs": [],
   "source": []
  }
 ],
 "metadata": {
  "kernelspec": {
   "display_name": "Python 3",
   "language": "python",
   "name": "python3"
  },
  "language_info": {
   "codemirror_mode": {
    "name": "ipython",
    "version": 3
   },
   "file_extension": ".py",
   "mimetype": "text/x-python",
   "name": "python",
   "nbconvert_exporter": "python",
   "pygments_lexer": "ipython3",
   "version": "3.6.3"
  }
 },
 "nbformat": 4,
 "nbformat_minor": 2
}
